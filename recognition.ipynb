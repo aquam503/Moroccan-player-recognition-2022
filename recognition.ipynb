{
 "cells": [
  {
   "cell_type": "markdown",
   "metadata": {},
   "source": [
    "### Morocco World Cup 2022 squad"
   ]
  },
  {
   "cell_type": "code",
   "execution_count": null,
   "metadata": {},
   "outputs": [],
   "source": [
    "from IPython.display import Image\n",
    "Image(filename='squad_list.jpg')"
   ]
  },
  {
   "cell_type": "code",
   "execution_count": 2,
   "metadata": {},
   "outputs": [],
   "source": [
    "#imports here\n",
    "import face_recognition\n",
    "import cv2 as cv\n",
    "import csv\n",
    "import numpy as np\n",
    "from datetime import datetime\n",
    "import pandas as pd"
   ]
  },
  {
   "cell_type": "code",
   "execution_count": 3,
   "metadata": {},
   "outputs": [],
   "source": [
    "from selenium import webdriver\n",
    "from selenium.webdriver.common.keys import Keys\n",
    "from selenium.webdriver.support import expected_conditions as EC\n",
    "from selenium.webdriver.common.by import By\n",
    "from selenium.webdriver.support.wait import WebDriverWait\n",
    "import time"
   ]
  },
  {
   "cell_type": "markdown",
   "metadata": {},
   "source": [
    "### Step 1: squad list using WebScraping"
   ]
  },
  {
   "cell_type": "code",
   "execution_count": 4,
   "metadata": {},
   "outputs": [],
   "source": [
    "url=\"https://www.fourfourtwo.com/features/morocco-world-cup-2022-squad-vahid-halilhodzic-names-his-latest-squad\""
   ]
  },
  {
   "cell_type": "code",
   "execution_count": 5,
   "metadata": {},
   "outputs": [],
   "source": [
    "#Disable Alerts/Notifications\n",
    "chrome_options = webdriver.ChromeOptions()\n",
    "prefs = {\"profile.default_content_setting_values.notifications\" : 2}\n",
    "chrome_options.add_experimental_option(\"prefs\",prefs)"
   ]
  },
  {
   "cell_type": "code",
   "execution_count": null,
   "metadata": {},
   "outputs": [],
   "source": [
    "#specify the path to chromedriver.exe\n",
    "driver = webdriver.Chrome('chromedriver.exe', chrome_options=chrome_options)\n",
    "#open the webpage\n",
    "squad=[]\n",
    "driver.get(url=url)\n",
    "for i in range(1,27):\n",
    "    l=WebDriverWait(driver, 10).until(EC.element_to_be_clickable((By.XPATH, f'//*[@id=\"article-body\"]/ul/li[{i}]')))\n",
    "    squad.append(l.text)"
   ]
  },
  {
   "cell_type": "code",
   "execution_count": null,
   "metadata": {},
   "outputs": [],
   "source": [
    "squad[0]"
   ]
  },
  {
   "cell_type": "code",
   "execution_count": null,
   "metadata": {},
   "outputs": [],
   "source": [
    "squad"
   ]
  },
  {
   "cell_type": "code",
   "execution_count": 36,
   "metadata": {},
   "outputs": [
    {
     "data": {
      "text/plain": [
       "26"
      ]
     },
     "execution_count": 36,
     "metadata": {},
     "output_type": "execute_result"
    }
   ],
   "source": [
    "len(squad)"
   ]
  },
  {
   "cell_type": "code",
   "execution_count": 37,
   "metadata": {},
   "outputs": [],
   "source": [
    "squad=pd.Series(squad)"
   ]
  },
  {
   "cell_type": "code",
   "execution_count": 38,
   "metadata": {},
   "outputs": [],
   "source": [
    "squad=squad.apply(lambda s : s.split(': ')[1].split(' (')[0])"
   ]
  },
  {
   "cell_type": "code",
   "execution_count": null,
   "metadata": {},
   "outputs": [],
   "source": [
    "squad"
   ]
  },
  {
   "cell_type": "code",
   "execution_count": 40,
   "metadata": {},
   "outputs": [],
   "source": [
    "squad=list(squad)"
   ]
  },
  {
   "cell_type": "code",
   "execution_count": null,
   "metadata": {},
   "outputs": [],
   "source": [
    "squad"
   ]
  },
  {
   "cell_type": "code",
   "execution_count": 42,
   "metadata": {},
   "outputs": [],
   "source": [
    "with open('players_2022.txt', 'w') as f:\n",
    "    for line in squad[:-1] :\n",
    "        f.write(line)\n",
    "        f.write('\\n')\n",
    "    f.write(squad[-1])"
   ]
  },
  {
   "cell_type": "markdown",
   "metadata": {},
   "source": [
    "### Step 2: how to manipulate face_recognition"
   ]
  },
  {
   "cell_type": "code",
   "execution_count": null,
   "metadata": {},
   "outputs": [],
   "source": [
    "#image = face_recognition.load_image_file(\"squad_list.jpg\")\n",
    "#face_locations = face_recognition.face_locations(image)\n",
    "#face_locations"
   ]
  },
  {
   "cell_type": "code",
   "execution_count": null,
   "metadata": {},
   "outputs": [],
   "source": [
    "#train image\n",
    "Image(filename='WalidRegragui.jpg')"
   ]
  },
  {
   "cell_type": "code",
   "execution_count": null,
   "metadata": {},
   "outputs": [],
   "source": [
    "#test image\n",
    "Image(filename='image.jpg')"
   ]
  },
  {
   "cell_type": "code",
   "execution_count": 45,
   "metadata": {},
   "outputs": [],
   "source": [
    "# Load the jpg file into a numpy array\n",
    "known_image = face_recognition.load_image_file(\"WalidRegragui.jpg\")\n",
    "unknown_image = face_recognition.load_image_file(\"image.jpg\")\n",
    "\n",
    "regragi_encoding = face_recognition.face_encodings(known_image)[0]\n",
    "unknown_encoding = face_recognition.face_encodings(unknown_image)[0]\n",
    "\n",
    "results = face_recognition.compare_faces([regragi_encoding], unknown_encoding)"
   ]
  },
  {
   "cell_type": "code",
   "execution_count": null,
   "metadata": {},
   "outputs": [],
   "source": [
    "if results[0]==True:\n",
    "    print('they are the same : walid regragi')\n",
    "else:\n",
    "    print('Not walid regragi')"
   ]
  },
  {
   "cell_type": "code",
   "execution_count": 47,
   "metadata": {},
   "outputs": [
    {
     "name": "stdout",
     "output_type": "stream",
     "text": [
      "I found 2 face(s) in this photograph.\n",
      "A face is located at pixel location Top: 17, Left: 59, Bottom: 60, Right: 103\n",
      "A face is located at pixel location Top: 22, Left: 199, Bottom: 65, Right: 242\n"
     ]
    }
   ],
   "source": [
    "from PIL import Image\n",
    "# Load the jpg file into a numpy array\n",
    "image = face_recognition.load_image_file(\"rm.jpg\")\n",
    "\n",
    "# Find all the faces in the image using the default HOG-based model.\n",
    "# This method is fairly accurate, but not as accurate as the CNN model and not GPU accelerated.\n",
    "face_locations = face_recognition.face_locations(image)\n",
    "\n",
    "print(\"I found {} face(s) in this photograph.\".format(len(face_locations)))\n",
    "\n",
    "for face_location in face_locations:\n",
    "\n",
    "    # Print the location of each face in this image\n",
    "    top, right, bottom, left = face_location\n",
    "    print(\"A face is located at pixel location Top: {}, Left: {}, Bottom: {}, Right: {}\".format(top, left, bottom, right))\n",
    "\n",
    "    # You can access the actual face itself like this:\n",
    "    face_image = image[top:bottom, left:right]\n",
    "    pil_image = Image.fromarray(face_image)\n",
    "    pil_image.show()"
   ]
  },
  {
   "cell_type": "markdown",
   "metadata": {},
   "source": [
    "### Step 3: Extract and Process the Photos\n"
   ]
  },
  {
   "cell_type": "code",
   "execution_count": 48,
   "metadata": {},
   "outputs": [],
   "source": [
    "with open('players_2022.txt') as f:\n",
    "    lines = f.readlines()"
   ]
  },
  {
   "cell_type": "code",
   "execution_count": 50,
   "metadata": {},
   "outputs": [],
   "source": [
    "lim=int(input(\"Entrer le nombre d'image pour chaque joueur pour entrainer le modele\"))"
   ]
  },
  {
   "cell_type": "code",
   "execution_count": null,
   "metadata": {},
   "outputs": [],
   "source": [
    "from bing_image_downloader import downloader\n",
    "for a in lines:\n",
    "    t=a.split('\\n')[0]    \n",
    "    downloader.download(t, limit=lim,  output_dir='dataset', \n",
    "    adult_filter_off=True, force_replace=False, timeout=60)"
   ]
  },
  {
   "cell_type": "code",
   "execution_count": null,
   "metadata": {},
   "outputs": [],
   "source": [
    "known=[]\n",
    "names=[]"
   ]
  },
  {
   "cell_type": "code",
   "execution_count": null,
   "metadata": {},
   "outputs": [],
   "source": [
    "len(squad)"
   ]
  },
  {
   "cell_type": "code",
   "execution_count": null,
   "metadata": {},
   "outputs": [],
   "source": [
    "lines"
   ]
  },
  {
   "cell_type": "code",
   "execution_count": null,
   "metadata": {},
   "outputs": [],
   "source": [
    "len(lines)"
   ]
  },
  {
   "cell_type": "code",
   "execution_count": null,
   "metadata": {},
   "outputs": [],
   "source": [
    "for i in range(26):\n",
    "    print(i)\n",
    "    a=lines[i].split('\\n')[0]\n",
    "    print(a)\n",
    "    for j in range(lim):\n",
    "        m=j+1\n",
    "        img=face_recognition.load_image_file('dataset(test)/'+str(a)+'/Image_{}.jpg'.format(m))\n",
    "        k=face_recognition.face_encodings(img)[0]\n",
    "        known.append(k)\n",
    "        names.append(a)"
   ]
  },
  {
   "cell_type": "code",
   "execution_count": null,
   "metadata": {},
   "outputs": [],
   "source": [
    "known"
   ]
  },
  {
   "cell_type": "code",
   "execution_count": null,
   "metadata": {},
   "outputs": [],
   "source": [
    "len(known)"
   ]
  },
  {
   "cell_type": "code",
   "execution_count": null,
   "metadata": {},
   "outputs": [],
   "source": [
    "#with open('players_encoding.txt', 'w') as f:\n",
    "#    i=0\n",
    "#    for k,i in zip(known,range(26)):\n",
    "#        f.write('\\n')\n",
    "#        f.write(f'{lines[i]}'+'\\n')\n",
    "#        f.write(str(k))\n",
    "#        f.write('\\n')"
   ]
  },
  {
   "cell_type": "code",
   "execution_count": null,
   "metadata": {},
   "outputs": [],
   "source": [
    "p=[]\n",
    "for i in range(26):\n",
    "    a=0\n",
    "    p+=[str(k) for k in known[a:a+lim]]\n",
    "    a+=lim\n",
    "with open('encoding_multiple_matrix.txt', 'w') as f:\n",
    "    i=0\n",
    "    for k,i in zip(p,range(26)):\n",
    "        f.write('\\n')\n",
    "        f.write(f'{lines[i]}'+'\\n')\n",
    "        f.write(str(k))\n",
    "        f.write('\\n')"
   ]
  },
  {
   "cell_type": "code",
   "execution_count": null,
   "metadata": {},
   "outputs": [],
   "source": [
    "players=names.copy()\n",
    "face_loc=[]\n",
    "face_enc=[]\n",
    "face_names=[]\n",
    "s=True"
   ]
  },
  {
   "cell_type": "code",
   "execution_count": null,
   "metadata": {},
   "outputs": [],
   "source": [
    "now=datetime.now()\n",
    "current_date=now.strftime(\"%Y-%m-%d\")"
   ]
  },
  {
   "cell_type": "code",
   "execution_count": null,
   "metadata": {},
   "outputs": [],
   "source": [
    "f=open(current_date+'.csv','w+',newline='')\n",
    "lnwriter=csv.writer(f)"
   ]
  },
  {
   "cell_type": "code",
   "execution_count": null,
   "metadata": {},
   "outputs": [],
   "source": [
    "cascade_classifier = cv.CascadeClassifier('haarcascades/haarcascade_frontalface_default.xml')"
   ]
  },
  {
   "cell_type": "code",
   "execution_count": null,
   "metadata": {},
   "outputs": [],
   "source": [
    "Vid=cv.VideoCapture(0)"
   ]
  },
  {
   "cell_type": "code",
   "execution_count": null,
   "metadata": {},
   "outputs": [],
   "source": [
    "while True:\n",
    "    _,frame=Vid.read()\n",
    "    s_frame=cv.resize(frame,(0,0),fx=0.25,fy=0.25)\n",
    "    s_frame2=s_frame[:,:,::-1]\n",
    "    gray = cv.cvtColor(frame, 0)\n",
    "    detections = cascade_classifier.detectMultiScale(gray,scaleFactor=1.3,minNeighbors=5)\n",
    "    if(len(detections) > 0):\n",
    "        (x,y,w,h) = detections[0]\n",
    "        frame = cv.rectangle(frame,(x,y),(x+w,y+h),(255,0,0),2)\n",
    "    if s:\n",
    "        face_loc=face_recognition.face_locations(s_frame2)\n",
    "        face_enc=face_recognition.face_encodings(s_frame2,face_loc)\n",
    "        face_names=[]\n",
    "        for face_en in face_enc:\n",
    "            m=face_recognition.compare_faces(known,face_en)\n",
    "            name=\"\"\n",
    "            face_dist=face_recognition.face_distance(known,face_en)\n",
    "            best_match_index=np.argmin(face_dist)\n",
    "            if m[best_match_index]:\n",
    "                name=names[best_match_index]\n",
    "            face_names.append(name)\n",
    "            if name in names:\n",
    "                if name in players:\n",
    "                    players.remove(name)\n",
    "                    print(players)\n",
    "                    current_time=now.strftime(\"%H-%M-%S\")\n",
    "                    lnwriter.writerow([name,current_time])\n",
    "    cv.imshow(\"players world cup 2022\",frame)\n",
    "    if cv.waitKey(1) & 0xFF == ord('q'):\n",
    "        break\n",
    "Vid.release()\n",
    "cv.destroyAllWindows()\n",
    "f.close()"
   ]
  }
 ],
 "metadata": {
  "kernelspec": {
   "display_name": "Python 3.10.2 64-bit",
   "language": "python",
   "name": "python3"
  },
  "language_info": {
   "codemirror_mode": {
    "name": "ipython",
    "version": 3
   },
   "file_extension": ".py",
   "mimetype": "text/x-python",
   "name": "python",
   "nbconvert_exporter": "python",
   "pygments_lexer": "ipython3",
   "version": "3.10.2"
  },
  "vscode": {
   "interpreter": {
    "hash": "26de051ba29f2982a8de78e945f0abaf191376122a1563185a90213a26c5da77"
   }
  }
 },
 "nbformat": 4,
 "nbformat_minor": 4
}
